{
 "cells": [
  {
   "attachments": {},
   "cell_type": "markdown",
   "metadata": {},
   "source": [
    "[![Open In Colab](https://colab.research.google.com/assets/colab-badge.svg)](https://colab.research.google.com/github/kubotaissei/defamation_japanese_twitter/blob/master/notebooks/inference_example.ipynb)"
   ]
  },
  {
   "cell_type": "code",
   "execution_count": 1,
   "metadata": {},
   "outputs": [],
   "source": [
    "!pip install transformers==4.26 sentencepiece"
   ]
  },
  {
   "cell_type": "code",
   "execution_count": 2,
   "metadata": {},
   "outputs": [],
   "source": [
    "# ====================================================\n",
    "# CFG\n",
    "# ====================================================\n",
    "class CFG:\n",
    "    # base\n",
    "    gpu_id=[\"0\"]\n",
    "    output_dir=\"output\"\n",
    "    seed=777\n",
    "    # Dataset\n",
    "    agg_type=\"ds\" #[mv, ds, gl] # Label Aggregation Method, Majoryty Voting or Dawid-Skene or GLAD\n",
    "    max_len=497\n",
    "    # Model\n",
    "    model=\"kubota/luke-large-defamation-detection-japanese\"\n",
    "    "
   ]
  },
  {
   "attachments": {},
   "cell_type": "markdown",
   "metadata": {},
   "source": [
    "# Library"
   ]
  },
  {
   "cell_type": "code",
   "execution_count": 30,
   "metadata": {},
   "outputs": [
    {
     "name": "stdout",
     "output_type": "stream",
     "text": [
      "env: TOKENIZERS_PARALLELISM=true\n"
     ]
    }
   ],
   "source": [
    "# ====================================================\n",
    "# Library\n",
    "# ====================================================\n",
    "import os\n",
    "import random\n",
    "import warnings\n",
    "warnings.filterwarnings(\"ignore\")\n",
    "\n",
    "os.environ[\"CUDA_VISIBLE_DEVICES\"] = \",\".join(CFG.gpu_id)\n",
    "\n",
    "import numpy as np\n",
    "import pandas as pd\n",
    "import torch\n",
    "from tqdm import tqdm\n",
    "from datasets import Dataset\n",
    "from sklearn.metrics import accuracy_score, f1_score, roc_auc_score, classification_report\n",
    "from transformers import (AutoModelForSequenceClassification, AutoTokenizer,\n",
    "                          Trainer)\n",
    "%env TOKENIZERS_PARALLELISM=true"
   ]
  },
  {
   "attachments": {},
   "cell_type": "markdown",
   "metadata": {},
   "source": [
    "# Helper functions for scoring"
   ]
  },
  {
   "cell_type": "code",
   "execution_count": 4,
   "metadata": {},
   "outputs": [],
   "source": [
    "# ====================================================\n",
    "# Helper functions for scoring\n",
    "# ====================================================\n",
    "def softmax(x):\n",
    "    f = np.exp(x) / np.sum(np.exp(x), axis=1, keepdims=True)\n",
    "    return f\n",
    "\n",
    "\n",
    "def compute_metrics(eval_pred):\n",
    "    predictions, labels = eval_pred\n",
    "    if labels.ndim == 2:\n",
    "        labels = np.argmax(labels, axis=1)\n",
    "    acc = accuracy_score(labels, np.argmax(predictions, axis=1))\n",
    "    f1 = f1_score(labels, np.argmax(predictions, axis=1), average=\"macro\")\n",
    "    auc = roc_auc_score(\n",
    "        np.identity(4)[labels],\n",
    "        softmax(predictions),\n",
    "        multi_class=\"ovr\",\n",
    "        average=\"macro\",\n",
    "    )\n",
    "    return {\n",
    "        \"accuracy\": acc,\n",
    "        \"f1\": f1,\n",
    "        \"auc\": auc,\n",
    "    }"
   ]
  },
  {
   "attachments": {},
   "cell_type": "markdown",
   "metadata": {},
   "source": [
    "# Utils"
   ]
  },
  {
   "cell_type": "code",
   "execution_count": 5,
   "metadata": {},
   "outputs": [],
   "source": [
    "# ====================================================\n",
    "# Utils\n",
    "# ====================================================\n",
    "def seed_everything(seed=42):\n",
    "    random.seed(seed)\n",
    "    os.environ['PYTHONHASHSEED'] = str(seed)\n",
    "    np.random.seed(seed)\n",
    "    torch.manual_seed(seed)\n",
    "    torch.cuda.manual_seed(seed)\n",
    "    torch.backends.cudnn.deterministic = True\n",
    "\n",
    "seed_everything(CFG.seed)"
   ]
  },
  {
   "cell_type": "code",
   "execution_count": 6,
   "metadata": {},
   "outputs": [],
   "source": [
    "tokenizer = AutoTokenizer.from_pretrained(CFG.model)\n",
    "model = AutoModelForSequenceClassification.from_pretrained(CFG.model)"
   ]
  },
  {
   "cell_type": "code",
   "execution_count": 7,
   "metadata": {},
   "outputs": [
    {
     "name": "stderr",
     "output_type": "stream",
     "text": [
      "100%|██████████| 879/879 [00:00<00:00, 3824.81it/s]\n"
     ]
    },
    {
     "name": "stdout",
     "output_type": "stream",
     "text": [
      "Text max(lengths): 495\n"
     ]
    },
    {
     "data": {
      "application/vnd.jupyter.widget-view+json": {
       "model_id": "e7d3941f8409472a8178ec5bf9f3581c",
       "version_major": 2,
       "version_minor": 0
      },
      "text/plain": [
       "  0%|          | 0/1 [00:00<?, ?ba/s]"
      ]
     },
     "metadata": {},
     "output_type": "display_data"
    }
   ],
   "source": [
    "test_df = pd.read_pickle(\"test.pkl\")\n",
    "test_df = test_df.drop(\"label\", axis=1).rename(columns={f\"{CFG.agg_type}_soft_label\":\"label\"})\n",
    "\n",
    "text_lengths = []\n",
    "tk1 = tqdm(test_df[\"text\"].fillna(\"\").values, total=len(test_df))\n",
    "for text in tk1:\n",
    "    length = len(tokenizer(text, add_special_tokens=False)['input_ids'])\n",
    "    text_lengths.append(length)\n",
    "\n",
    "max_len = max(text_lengths) + 2 # CLS + SEP\n",
    "print(f'Text max(lengths): {max(text_lengths)}')\n",
    "\n",
    "def clean_text(text):\n",
    "    return (\n",
    "        text.replace(\" \", \"\")\n",
    "        .replace(\"@user\", \"\")\n",
    "        .replace(\"　\", \"\")\n",
    "        .replace(\"__BR__\", \"\\n\")\n",
    "        .replace(\"\\xa0\", \"\")\n",
    "        .replace(\"\\r\", \"\")\n",
    "        .lstrip(\"\\n\")\n",
    "    )\n",
    "\n",
    "def tokenize(batch):\n",
    "    return tokenizer(\n",
    "        list(map(clean_text, batch[\"text\"])),\n",
    "        add_special_tokens=True,\n",
    "        padding=True,\n",
    "        truncation=True,\n",
    "        max_length=max_len,\n",
    "        return_tensors=\"pt\",\n",
    "    )\n",
    "\n",
    "test_data = Dataset.from_pandas(test_df).map(tokenize, batched=True, batch_size=None)"
   ]
  },
  {
   "cell_type": "code",
   "execution_count": 31,
   "metadata": {},
   "outputs": [
    {
     "data": {
      "text/html": [],
      "text/plain": [
       "<IPython.core.display.HTML object>"
      ]
     },
     "metadata": {},
     "output_type": "display_data"
    },
    {
     "name": "stdout",
     "output_type": "stream",
     "text": [
      "{'test_loss': 0.4339948296546936, 'test_accuracy': 0.6473265073947668, 'test_f1': 0.6356487994276481, 'test_auc': 0.8492810797008399, 'test_runtime': 21.5323, 'test_samples_per_second': 40.822, 'test_steps_per_second': 5.109}\n"
     ]
    },
    {
     "data": {
      "text/html": [
       "<div>\n",
       "<style scoped>\n",
       "    .dataframe tbody tr th:only-of-type {\n",
       "        vertical-align: middle;\n",
       "    }\n",
       "\n",
       "    .dataframe tbody tr th {\n",
       "        vertical-align: top;\n",
       "    }\n",
       "\n",
       "    .dataframe thead th {\n",
       "        text-align: right;\n",
       "    }\n",
       "</style>\n",
       "<table border=\"1\" class=\"dataframe\">\n",
       "  <thead>\n",
       "    <tr style=\"text-align: right;\">\n",
       "      <th></th>\n",
       "      <th>text</th>\n",
       "      <th>ds_hard_label</th>\n",
       "      <th>pred_label</th>\n",
       "    </tr>\n",
       "  </thead>\n",
       "  <tbody>\n",
       "    <tr>\n",
       "      <th>0</th>\n",
       "      <td>@ReutersJapan確かに侵略戦争で民間人を殺害したのは裁かれるべきですが、本来ロシア...</td>\n",
       "      <td>0</td>\n",
       "      <td>3</td>\n",
       "    </tr>\n",
       "    <tr>\n",
       "      <th>1</th>\n",
       "      <td>日本人が「劣化」したワケ…受験勉強で「学歴の高いバカ」が大量生産されている！中野信子氏と和田...</td>\n",
       "      <td>0</td>\n",
       "      <td>0</td>\n",
       "    </tr>\n",
       "    <tr>\n",
       "      <th>2</th>\n",
       "      <td>静岡県知事がリニアを通さない。これ自体が日本が中国に支配されていて日本を潰すのは施政者など力...</td>\n",
       "      <td>3</td>\n",
       "      <td>3</td>\n",
       "    </tr>\n",
       "    <tr>\n",
       "      <th>3</th>\n",
       "      <td>日本に外国人を住まわせちゃいけない理由\\n\\n・最早区別は差別と同義\\n・別の国から来た人は...</td>\n",
       "      <td>0</td>\n",
       "      <td>0</td>\n",
       "    </tr>\n",
       "    <tr>\n",
       "      <th>4</th>\n",
       "      <td>やられてもやり返すな。同類だぞみたいな日本人特有の文化なに？そんな考えのやつばっかだから日本...</td>\n",
       "      <td>0</td>\n",
       "      <td>2</td>\n",
       "    </tr>\n",
       "  </tbody>\n",
       "</table>\n",
       "</div>"
      ],
      "text/plain": [
       "                                                text  ds_hard_label  \\\n",
       "0  @ReutersJapan確かに侵略戦争で民間人を殺害したのは裁かれるべきですが、本来ロシア...              0   \n",
       "1  日本人が「劣化」したワケ…受験勉強で「学歴の高いバカ」が大量生産されている！中野信子氏と和田...              0   \n",
       "2  静岡県知事がリニアを通さない。これ自体が日本が中国に支配されていて日本を潰すのは施政者など力...              3   \n",
       "3  日本に外国人を住まわせちゃいけない理由\\n\\n・最早区別は差別と同義\\n・別の国から来た人は...              0   \n",
       "4  やられてもやり返すな。同類だぞみたいな日本人特有の文化なに？そんな考えのやつばっかだから日本...              0   \n",
       "\n",
       "   pred_label  \n",
       "0           3  \n",
       "1           0  \n",
       "2           3  \n",
       "3           0  \n",
       "4           2  "
      ]
     },
     "metadata": {},
     "output_type": "display_data"
    },
    {
     "data": {
      "text/html": [
       "<div>\n",
       "<style scoped>\n",
       "    .dataframe tbody tr th:only-of-type {\n",
       "        vertical-align: middle;\n",
       "    }\n",
       "\n",
       "    .dataframe tbody tr th {\n",
       "        vertical-align: top;\n",
       "    }\n",
       "\n",
       "    .dataframe thead th {\n",
       "        text-align: right;\n",
       "    }\n",
       "</style>\n",
       "<table border=\"1\" class=\"dataframe\">\n",
       "  <thead>\n",
       "    <tr style=\"text-align: right;\">\n",
       "      <th></th>\n",
       "      <th>中傷性のない発言</th>\n",
       "      <th>脅迫的な発言</th>\n",
       "      <th>侮蔑的な発言</th>\n",
       "      <th>名誉を低下させる発言</th>\n",
       "      <th>accuracy</th>\n",
       "      <th>macro avg</th>\n",
       "      <th>weighted avg</th>\n",
       "    </tr>\n",
       "  </thead>\n",
       "  <tbody>\n",
       "    <tr>\n",
       "      <th>precision</th>\n",
       "      <td>0.713068</td>\n",
       "      <td>0.690141</td>\n",
       "      <td>0.590747</td>\n",
       "      <td>0.519231</td>\n",
       "      <td>0.647327</td>\n",
       "      <td>0.628297</td>\n",
       "      <td>0.651314</td>\n",
       "    </tr>\n",
       "    <tr>\n",
       "      <th>recall</th>\n",
       "      <td>0.625935</td>\n",
       "      <td>0.803279</td>\n",
       "      <td>0.677551</td>\n",
       "      <td>0.486486</td>\n",
       "      <td>0.647327</td>\n",
       "      <td>0.648313</td>\n",
       "      <td>0.647327</td>\n",
       "    </tr>\n",
       "    <tr>\n",
       "      <th>f1-score</th>\n",
       "      <td>0.666667</td>\n",
       "      <td>0.742424</td>\n",
       "      <td>0.631179</td>\n",
       "      <td>0.502326</td>\n",
       "      <td>0.647327</td>\n",
       "      <td>0.635649</td>\n",
       "      <td>0.646537</td>\n",
       "    </tr>\n",
       "    <tr>\n",
       "      <th>support</th>\n",
       "      <td>401.000000</td>\n",
       "      <td>122.000000</td>\n",
       "      <td>245.000000</td>\n",
       "      <td>111.000000</td>\n",
       "      <td>0.647327</td>\n",
       "      <td>879.000000</td>\n",
       "      <td>879.000000</td>\n",
       "    </tr>\n",
       "  </tbody>\n",
       "</table>\n",
       "</div>"
      ],
      "text/plain": [
       "             中傷性のない発言      脅迫的な発言      侮蔑的な発言  名誉を低下させる発言  accuracy  \\\n",
       "precision    0.713068    0.690141    0.590747    0.519231  0.647327   \n",
       "recall       0.625935    0.803279    0.677551    0.486486  0.647327   \n",
       "f1-score     0.666667    0.742424    0.631179    0.502326  0.647327   \n",
       "support    401.000000  122.000000  245.000000  111.000000  0.647327   \n",
       "\n",
       "            macro avg  weighted avg  \n",
       "precision    0.628297      0.651314  \n",
       "recall       0.648313      0.647327  \n",
       "f1-score     0.635649      0.646537  \n",
       "support    879.000000    879.000000  "
      ]
     },
     "metadata": {},
     "output_type": "display_data"
    }
   ],
   "source": [
    "trainer = Trainer(model, compute_metrics=compute_metrics)\n",
    "result = trainer.predict(test_data)\n",
    "print(result.metrics)\n",
    "test_df[\"pred_label\"] = result.predictions.argmax(1).tolist()\n",
    "display(test_df[[\"text\", \"ds_hard_label\", \"pred_label\"]].head())\n",
    "report = classification_report(test_df[\"ds_hard_label\"], test_df[\"pred_label\"], target_names=model.config.id2label.values(), output_dict=True)\n",
    "display(pd.DataFrame(report))"
   ]
  },
  {
   "cell_type": "code",
   "execution_count": null,
   "metadata": {},
   "outputs": [],
   "source": []
  }
 ],
 "metadata": {
  "kernelspec": {
   "display_name": "base",
   "language": "python",
   "name": "python3"
  },
  "language_info": {
   "codemirror_mode": {
    "name": "ipython",
    "version": 3
   },
   "file_extension": ".py",
   "mimetype": "text/x-python",
   "name": "python",
   "nbconvert_exporter": "python",
   "pygments_lexer": "ipython3",
   "version": "3.9.13"
  },
  "orig_nbformat": 4,
  "vscode": {
   "interpreter": {
    "hash": "2f394aca7ca06fed1e6064aef884364492d7cdda3614a461e02e6407fc40ba69"
   }
  }
 },
 "nbformat": 4,
 "nbformat_minor": 2
}
