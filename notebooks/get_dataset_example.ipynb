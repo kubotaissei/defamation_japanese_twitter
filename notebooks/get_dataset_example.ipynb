{
 "cells": [
  {
   "attachments": {},
   "cell_type": "markdown",
   "metadata": {},
   "source": [
    "[![Open In Colab](https://colab.research.google.com/assets/colab-badge.svg)](https://colab.research.google.com/github/kubotaissei/defamation_japanese_twitter/blob/master/notebooks/get_dataset_example.ipynb)"
   ]
  },
  {
   "cell_type": "code",
   "execution_count": null,
   "metadata": {},
   "outputs": [],
   "source": [
    "!pip install datasets==2.8.0"
   ]
  },
  {
   "cell_type": "code",
   "execution_count": 1,
   "metadata": {},
   "outputs": [
    {
     "name": "stderr",
     "output_type": "stream",
     "text": [
      "Found cached dataset defamation-japanese-twitter (/root/.cache/huggingface/datasets/kubota___defamation-japanese-twitter/plain_text/1.0.0/caa520e7d83339c4b77febb17a1fc8cdc5c0414312eb63049542eea77aff6962)\n"
     ]
    },
    {
     "data": {
      "application/vnd.jupyter.widget-view+json": {
       "model_id": "8bbf9a441e4b42b9b54d041f532c4928",
       "version_major": 2,
       "version_minor": 0
      },
      "text/plain": [
       "  0%|          | 0/1 [00:00<?, ?it/s]"
      ]
     },
     "metadata": {},
     "output_type": "display_data"
    },
    {
     "data": {
      "application/vnd.jupyter.widget-view+json": {
       "model_id": "e854f5fc8d1548b4a46a4041689a12ba",
       "version_major": 2,
       "version_minor": 0
      },
      "text/plain": [
       "  0%|          | 0/50 [00:00<?, ?ba/s]"
      ]
     },
     "metadata": {},
     "output_type": "display_data"
    },
    {
     "data": {
      "text/html": [
       "<div>\n",
       "<style scoped>\n",
       "    .dataframe tbody tr th:only-of-type {\n",
       "        vertical-align: middle;\n",
       "    }\n",
       "\n",
       "    .dataframe tbody tr th {\n",
       "        vertical-align: top;\n",
       "    }\n",
       "\n",
       "    .dataframe thead th {\n",
       "        text-align: right;\n",
       "    }\n",
       "</style>\n",
       "<table border=\"1\" class=\"dataframe\">\n",
       "  <thead>\n",
       "    <tr style=\"text-align: right;\">\n",
       "      <th></th>\n",
       "      <th>id</th>\n",
       "      <th>target</th>\n",
       "      <th>label</th>\n",
       "      <th>user_id_list</th>\n",
       "      <th>text</th>\n",
       "      <th>created_at</th>\n",
       "    </tr>\n",
       "  </thead>\n",
       "  <tbody>\n",
       "    <tr>\n",
       "      <th>0</th>\n",
       "      <td>1494101762587836419</td>\n",
       "      <td>[3, 1, 3]</td>\n",
       "      <td>[4, 3, 4]</td>\n",
       "      <td>[65, 90, 51]</td>\n",
       "      <td>ジェンダーとかそういうのは関係なく、男の子はこんなもん、女の子だからこういうもん、そういう言...</td>\n",
       "      <td>2022-02-17T00:09:53.000Z</td>\n",
       "    </tr>\n",
       "    <tr>\n",
       "      <th>1</th>\n",
       "      <td>1494127310340976648</td>\n",
       "      <td>[1, 1, 1]</td>\n",
       "      <td>[2, 2, 2]</td>\n",
       "      <td>[65, 90, 51]</td>\n",
       "      <td>@sharenewsjapan1 河村は阿呆か？\\n今韓国と仲良くお手てつないでなどできるは...</td>\n",
       "      <td>2022-02-17T01:51:24.000Z</td>\n",
       "    </tr>\n",
       "    <tr>\n",
       "      <th>2</th>\n",
       "      <td>1494128253279567872</td>\n",
       "      <td>[3, 1, 1]</td>\n",
       "      <td>[1, 1, 1]</td>\n",
       "      <td>[65, 90, 51]</td>\n",
       "      <td>低能共がドヤ顔で写真撮る権利なんて要らねえよ。\\n糞どもはやく死なねえかな。\\n鉄道は静かに...</td>\n",
       "      <td>2022-02-17T01:55:09.000Z</td>\n",
       "    </tr>\n",
       "    <tr>\n",
       "      <th>3</th>\n",
       "      <td>1494131907076190209</td>\n",
       "      <td>[1, 3, 1]</td>\n",
       "      <td>[1, 4, 1]</td>\n",
       "      <td>[65, 90, 51]</td>\n",
       "      <td>ライル：（…消えてしまえ、消えてしまえ消えろ消えろ消えろ消えろっ!!!!マフィアなんて全部、...</td>\n",
       "      <td>2022-02-17T02:09:40.000Z</td>\n",
       "    </tr>\n",
       "    <tr>\n",
       "      <th>4</th>\n",
       "      <td>1494150116118515715</td>\n",
       "      <td>[1, 1, 3]</td>\n",
       "      <td>[3, 3, 4]</td>\n",
       "      <td>[65, 90, 51]</td>\n",
       "      <td>自分が住んでいる都市は街全体がおっきな老人ホームみたいになっていて、老人の住みやすさが優先さ...</td>\n",
       "      <td>2022-02-17T03:22:02.000Z</td>\n",
       "    </tr>\n",
       "  </tbody>\n",
       "</table>\n",
       "</div>"
      ],
      "text/plain": [
       "                    id     target      label  user_id_list  \\\n",
       "0  1494101762587836419  [3, 1, 3]  [4, 3, 4]  [65, 90, 51]   \n",
       "1  1494127310340976648  [1, 1, 1]  [2, 2, 2]  [65, 90, 51]   \n",
       "2  1494128253279567872  [3, 1, 1]  [1, 1, 1]  [65, 90, 51]   \n",
       "3  1494131907076190209  [1, 3, 1]  [1, 4, 1]  [65, 90, 51]   \n",
       "4  1494150116118515715  [1, 1, 3]  [3, 3, 4]  [65, 90, 51]   \n",
       "\n",
       "                                                text                created_at  \n",
       "0  ジェンダーとかそういうのは関係なく、男の子はこんなもん、女の子だからこういうもん、そういう言...  2022-02-17T00:09:53.000Z  \n",
       "1  @sharenewsjapan1 河村は阿呆か？\\n今韓国と仲良くお手てつないでなどできるは...  2022-02-17T01:51:24.000Z  \n",
       "2  低能共がドヤ顔で写真撮る権利なんて要らねえよ。\\n糞どもはやく死なねえかな。\\n鉄道は静かに...  2022-02-17T01:55:09.000Z  \n",
       "3  ライル：（…消えてしまえ、消えてしまえ消えろ消えろ消えろ消えろっ!!!!マフィアなんて全部、...  2022-02-17T02:09:40.000Z  \n",
       "4  自分が住んでいる都市は街全体がおっきな老人ホームみたいになっていて、老人の住みやすさが優先さ...  2022-02-17T03:22:02.000Z  "
      ]
     },
     "execution_count": 1,
     "metadata": {},
     "output_type": "execute_result"
    }
   ],
   "source": [
    "# sample code from https://github.com/twitterdev/Twitter-API-v2-sample-code/blob/main/Tweet-Lookup/get_tweets_with_bearer_token.py\n",
    "import requests\n",
    "import os\n",
    "import json\n",
    "from datasets import load_dataset\n",
    "\n",
    "# To set your enviornment variables in your terminal run the following line:\n",
    "# export 'BEARER_TOKEN'='<your_bearer_token>'\n",
    "bearer_token = os.environ.get(\"BEARER_TOKEN\")\n",
    "\n",
    "\n",
    "def create_url(ids: list):\n",
    "    tweet_fields = \"tweet.fields=created_at\"\n",
    "    ids = f\"ids={','.join(ids)}\"\n",
    "    url = \"https://api.twitter.com/2/tweets?{}&{}\".format(ids, tweet_fields)\n",
    "    return url\n",
    "\n",
    "\n",
    "def bearer_oauth(r):\n",
    "    \"\"\"\n",
    "    Method required by bearer token authentication.\n",
    "    \"\"\"\n",
    "\n",
    "    r.headers[\"Authorization\"] = f\"Bearer {bearer_token}\"\n",
    "    r.headers[\"User-Agent\"] = \"v2TweetLookupPython\"\n",
    "    return r\n",
    "\n",
    "\n",
    "def connect_to_endpoint(url):\n",
    "    response = requests.request(\"GET\", url, auth=bearer_oauth)\n",
    "    if response.status_code != 200:\n",
    "        raise Exception(\n",
    "            \"Request returned an error: {} {}\".format(\n",
    "                response.status_code, response.text\n",
    "            )\n",
    "        )\n",
    "    return response.json()\n",
    "\n",
    "\n",
    "def get_text_data(examples):\n",
    "    url = create_url(examples[\"id\"])\n",
    "    json_response = connect_to_endpoint(url)\n",
    "    # print(json_response[\"data\"])\n",
    "    text_dict = {data[\"id\"]: data[\"text\"] for data in json_response[\"data\"]}\n",
    "    time_dict = {data[\"id\"]: data[\"created_at\"] for data in json_response[\"data\"]}\n",
    "    return {\n",
    "        \"text\": [text_dict.get(id) for id in examples[\"id\"]],\n",
    "        \"created_at\": [time_dict.get(id) for id in examples[\"id\"]],\n",
    "    }\n",
    "\n",
    "\n",
    "dataset = load_dataset(\"kubota/defamation-japanese-twitter\")\n",
    "dataset = dataset.map(get_text_data, batched=True, batch_size=100)\n",
    "dataset[\"train\"].to_pandas().head()"
   ]
  },
  {
   "cell_type": "code",
   "execution_count": null,
   "metadata": {},
   "outputs": [],
   "source": []
  }
 ],
 "metadata": {
  "kernelspec": {
   "display_name": "base",
   "language": "python",
   "name": "python3"
  },
  "language_info": {
   "codemirror_mode": {
    "name": "ipython",
    "version": 3
   },
   "file_extension": ".py",
   "mimetype": "text/x-python",
   "name": "python",
   "nbconvert_exporter": "python",
   "pygments_lexer": "ipython3",
   "version": "3.9.13"
  },
  "orig_nbformat": 4,
  "vscode": {
   "interpreter": {
    "hash": "2f394aca7ca06fed1e6064aef884364492d7cdda3614a461e02e6407fc40ba69"
   }
  }
 },
 "nbformat": 4,
 "nbformat_minor": 2
}
