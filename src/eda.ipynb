{
 "cells": [
  {
   "cell_type": "code",
   "execution_count": 1,
   "metadata": {},
   "outputs": [],
   "source": [
    "import pandas as pd\n",
    "import numpy as np\n",
    "import collections\n",
    "from sklearn.model_selection import train_test_split\n",
    "import krippendorff\n"
   ]
  },
  {
   "cell_type": "code",
   "execution_count": 15,
   "metadata": {},
   "outputs": [],
   "source": [
    "df = pd.read_pickle(\"../input/data.pkl\")\n",
    "df[\"resA_label\"] = (\n",
    "    df[list(filter(lambda x: \"_resA\" in x, df.columns))]\n",
    "    .apply(lambda d: sum(list(d), []), axis=1)\n",
    "    .apply(lambda l: max(set(l), key=l.count) if len(set(l)) != len(l) else \"None\")\n",
    ")\n",
    "df[\"resB_label\"] = (\n",
    "    df[list(filter(lambda x: \"_resB\" in x, df.columns))]\n",
    "    .apply(lambda d: sum(list(d), []), axis=1)\n",
    "    .apply(lambda l: max(set(l), key=l.count) if len(set(l)) != len(l) else \"None\")\n",
    ")\n",
    "df[\"resA_list\"] = df[list(filter(lambda x: \"_resA\" in x, df.columns))].apply(lambda d: sum(list(d), []), axis=1)\n",
    "df[\"resB_list\"] = df[list(filter(lambda x: \"_resB\" in x, df.columns))].apply(lambda d: sum(list(d), []), axis=1)"
   ]
  },
  {
   "cell_type": "code",
   "execution_count": 17,
   "metadata": {},
   "outputs": [],
   "source": [
    "data = df[[\"id\", \"resA_label\", \"resB_label\",\"resA_list\", \"resB_list\", \"textDisplay\"]]"
   ]
  },
  {
   "cell_type": "code",
   "execution_count": 24,
   "metadata": {},
   "outputs": [],
   "source": [
    "data.to_csv(\"sample.csv\", encoding=\"utf-8-sig\")"
   ]
  },
  {
   "cell_type": "code",
   "execution_count": null,
   "metadata": {},
   "outputs": [],
   "source": []
  }
 ],
 "metadata": {
  "kernelspec": {
   "display_name": "Python 3.9.13 ('base')",
   "language": "python",
   "name": "python3"
  },
  "language_info": {
   "codemirror_mode": {
    "name": "ipython",
    "version": 3
   },
   "file_extension": ".py",
   "mimetype": "text/x-python",
   "name": "python",
   "nbconvert_exporter": "python",
   "pygments_lexer": "ipython3",
   "version": "3.9.13"
  },
  "orig_nbformat": 4,
  "vscode": {
   "interpreter": {
    "hash": "2f394aca7ca06fed1e6064aef884364492d7cdda3614a461e02e6407fc40ba69"
   }
  }
 },
 "nbformat": 4,
 "nbformat_minor": 2
}
